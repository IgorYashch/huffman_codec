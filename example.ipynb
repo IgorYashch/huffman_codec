{
 "cells": [
  {
   "cell_type": "code",
   "execution_count": 27,
   "id": "39e0d7ba",
   "metadata": {},
   "outputs": [],
   "source": [
    "import Huffman"
   ]
  },
  {
   "cell_type": "markdown",
   "id": "f5224afc",
   "metadata": {},
   "source": [
    "### Пример для encode/decode"
   ]
  },
  {
   "cell_type": "code",
   "execution_count": 28,
   "id": "5cf5f614",
   "metadata": {},
   "outputs": [],
   "source": [
    "text = 'Hello, world!!!'"
   ]
  },
  {
   "cell_type": "code",
   "execution_count": 29,
   "id": "989f8316",
   "metadata": {},
   "outputs": [
    {
     "data": {
      "text/plain": [
       "'100010100101110111111111011101101011011001000000'"
      ]
     },
     "execution_count": 29,
     "metadata": {},
     "output_type": "execute_result"
    }
   ],
   "source": [
    "code, tree = Huffman.encode(text)\n",
    "code"
   ]
  },
  {
   "cell_type": "code",
   "execution_count": 30,
   "id": "b6947ab9",
   "metadata": {},
   "outputs": [
    {
     "data": {
      "text/plain": [
       "'Hello, world!!!'"
      ]
     },
     "execution_count": 30,
     "metadata": {},
     "output_type": "execute_result"
    }
   ],
   "source": [
    "Huffman.decode(code, tree)"
   ]
  },
  {
   "cell_type": "markdown",
   "id": "b7c99473",
   "metadata": {},
   "source": [
    "### Пример для сохранения в файлы"
   ]
  },
  {
   "cell_type": "code",
   "execution_count": 31,
   "id": "ece7992c",
   "metadata": {},
   "outputs": [],
   "source": [
    "text = ''' At the sunset hour of one warm spring day two men were to be seen at Patriarch's Ponds. The first of them--aged about forty, dressed in a greyish summer suit--was short, dark-haired, well-fed and bald. He carried his decorous pork-pie hat by the brim and his neatly shaven face was embellishedby black hornrimmed spectacles of preternatural dimensions. The other, abroad-shouldered young man with curly reddish hair and a check cap pushed back to the nape of his neck, was wearing a tartan shirt, chewed white trousers and black sneakers.\n",
    " The first was none other than Mikhail Alexandrovich Berlioz, editor of\n",
    "a highbrow literary magazine and chairman of the management cofnmittee of\n",
    "one of the biggest Moscow literary clubs, known by its abbreviation as\n",
    "massolit; his young companion was the poet Ivan Nikolayich Poniryov who\n",
    "wrote under the pseudonym of Bezdomny.\n",
    " Reaching the shade of the budding lime trees, the two writers went straight to a gaily-painted kiosk labelled'Beer and Minerals'.\n",
    " There was an oddness about that terrible day in May which is worth recording : not only at the kiosk but along the whole avenue parallel to Malaya Bronnaya Street there was not a person to be seen. It was the hour of the day when people feel too exhausted to breathe, when Moscow glows in a dry haze as the sun disappears behind the Sadovaya Boulevard--yet no one had come out for a walk under the limes, no one was sitting on a bench, the avenue was empty.'''"
   ]
  },
  {
   "cell_type": "code",
   "execution_count": 32,
   "id": "fcc50757",
   "metadata": {},
   "outputs": [],
   "source": [
    "Huffman.encode_to_files(text, 'output.huff', 'output.tree')"
   ]
  },
  {
   "cell_type": "code",
   "execution_count": 33,
   "id": "66754f70",
   "metadata": {},
   "outputs": [
    {
     "name": "stdout",
     "output_type": "stream",
     "text": [
      "total 28\r\n",
      "-rw-rw-r-- 1 yashch yashch 4214 янв 11 14:22 Huffman.py\r\n",
      "-rw-rw-r-- 1 yashch yashch  802 янв 11 14:34 output.huff\r\n",
      "-rw-rw-r-- 1 yashch yashch 1289 янв 11 14:34 output.tree\r\n",
      "-rw-rw-r-- 1 yashch yashch  304 янв 11 14:20 README.md\r\n",
      "-rw-rw-r-- 1 yashch yashch 6392 янв 11 14:32 Untitled.ipynb\r\n"
     ]
    }
   ],
   "source": [
    "!ls -l"
   ]
  },
  {
   "cell_type": "code",
   "execution_count": 34,
   "id": "252014eb",
   "metadata": {},
   "outputs": [
    {
     "name": "stdout",
     "output_type": "stream",
     "text": [
      " At the sunset hour of one warm spring day two men were to be seen at Patriarch's Ponds. The first of them--aged about forty, dressed in a greyish summer suit--was short, dark-haired, well-fed and bald. He carried his decorous pork-pie hat by the brim and his neatly shaven face was embellishedby black hornrimmed spectacles of preternatural dimensions. The other, abroad-shouldered young man with curly reddish hair and a check cap pushed back to the nape of his neck, was wearing a tartan shirt, chewed white trousers and black sneakers.\n",
      " The first was none other than Mikhail Alexandrovich Berlioz, editor of\n",
      "a highbrow literary magazine and chairman of the management cofnmittee of\n",
      "one of the biggest Moscow literary clubs, known by its abbreviation as\n",
      "massolit; his young companion was the poet Ivan Nikolayich Poniryov who\n",
      "wrote under the pseudonym of Bezdomny.\n",
      " Reaching the shade of the budding lime trees, the two writers went straight to a gaily-painted kiosk labelled'Beer and Minerals'.\n",
      " There was an oddness about that terrible day in May which is worth recording : not only at the kiosk but along the whole avenue parallel to Malaya Bronnaya Street there was not a person to be seen. It was the hour of the day when people feel too exhausted to breathe, when Moscow glows in a dry haze as the sun disappears behind the Sadovaya Boulevard--yet no one had come out for a walk under the limes, no one was sitting on a bench, the avenue was empty.\n"
     ]
    }
   ],
   "source": [
    "print(Huffman.decode_from_files('output.huff', 'output.tree'))"
   ]
  },
  {
   "cell_type": "code",
   "execution_count": null,
   "id": "3f0bca32",
   "metadata": {},
   "outputs": [],
   "source": []
  }
 ],
 "metadata": {
  "kernelspec": {
   "display_name": "Python 3 (ipykernel)",
   "language": "python",
   "name": "python3"
  },
  "language_info": {
   "codemirror_mode": {
    "name": "ipython",
    "version": 3
   },
   "file_extension": ".py",
   "mimetype": "text/x-python",
   "name": "python",
   "nbconvert_exporter": "python",
   "pygments_lexer": "ipython3",
   "version": "3.9.12"
  }
 },
 "nbformat": 4,
 "nbformat_minor": 5
}
